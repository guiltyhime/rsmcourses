{
 "cells": [
  {
   "cell_type": "code",
   "execution_count": 1,
   "metadata": {
    "id": "yBiOBGlRrndE",
    "tags": []
   },
   "outputs": [],
   "source": [
    "import pandas as pd"
   ]
  },
  {
   "cell_type": "code",
   "execution_count": 3,
   "metadata": {
    "colab": {
     "base_uri": "https://localhost:8080/",
     "height": 204
    },
    "id": "5SsP3L66r0oJ",
    "outputId": "6f46ccc6-645b-4531-e7c2-0910f983bd0e",
    "tags": []
   },
   "outputs": [
    {
     "data": {
      "text/html": [
       "<div>\n",
       "<style scoped>\n",
       "    .dataframe tbody tr th:only-of-type {\n",
       "        vertical-align: middle;\n",
       "    }\n",
       "\n",
       "    .dataframe tbody tr th {\n",
       "        vertical-align: top;\n",
       "    }\n",
       "\n",
       "    .dataframe thead th {\n",
       "        text-align: right;\n",
       "    }\n",
       "</style>\n",
       "<table border=\"1\" class=\"dataframe\">\n",
       "  <thead>\n",
       "    <tr style=\"text-align: right;\">\n",
       "      <th></th>\n",
       "      <th>SkuID</th>\n",
       "      <th>OrderNumber</th>\n",
       "      <th>CustomerNumber</th>\n",
       "      <th>OrderQuantity</th>\n",
       "      <th>Date</th>\n",
       "      <th>Time</th>\n",
       "    </tr>\n",
       "  </thead>\n",
       "  <tbody>\n",
       "    <tr>\n",
       "      <th>0</th>\n",
       "      <td>EPSC11C497001</td>\n",
       "      <td>0</td>\n",
       "      <td>552321</td>\n",
       "      <td>1</td>\n",
       "      <td>20040101</td>\n",
       "      <td>151700</td>\n",
       "    </tr>\n",
       "    <tr>\n",
       "      <th>1</th>\n",
       "      <td>SPR60043</td>\n",
       "      <td>23912352</td>\n",
       "      <td>919569</td>\n",
       "      <td>2</td>\n",
       "      <td>20040102</td>\n",
       "      <td>161500</td>\n",
       "    </tr>\n",
       "    <tr>\n",
       "      <th>2</th>\n",
       "      <td>SMD67179</td>\n",
       "      <td>23912353</td>\n",
       "      <td>919569</td>\n",
       "      <td>1</td>\n",
       "      <td>20040102</td>\n",
       "      <td>161500</td>\n",
       "    </tr>\n",
       "    <tr>\n",
       "      <th>3</th>\n",
       "      <td>SPR07501</td>\n",
       "      <td>23912359</td>\n",
       "      <td>919569</td>\n",
       "      <td>2</td>\n",
       "      <td>20040102</td>\n",
       "      <td>161500</td>\n",
       "    </tr>\n",
       "    <tr>\n",
       "      <th>4</th>\n",
       "      <td>SMD67157</td>\n",
       "      <td>23912353</td>\n",
       "      <td>919569</td>\n",
       "      <td>1</td>\n",
       "      <td>20040102</td>\n",
       "      <td>161500</td>\n",
       "    </tr>\n",
       "  </tbody>\n",
       "</table>\n",
       "</div>"
      ],
      "text/plain": [
       "           SkuID  OrderNumber  CustomerNumber  OrderQuantity      Date    Time\n",
       "0  EPSC11C497001            0          552321              1  20040101  151700\n",
       "1       SPR60043     23912352          919569              2  20040102  161500\n",
       "2       SMD67179     23912353          919569              1  20040102  161500\n",
       "3       SPR07501     23912359          919569              2  20040102  161500\n",
       "4       SMD67157     23912353          919569              1  20040102  161500"
      ]
     },
     "execution_count": 3,
     "metadata": {},
     "output_type": "execute_result"
    }
   ],
   "source": [
    "df = pd.read_csv('E:\\Sylvian/其他物件/三次元相关/出国/23RSM-SCM/Facility Logistics Management/Assignment 1/sales-2.csv',sep = ',')\n",
    "df.head()"
   ]
  },
  {
   "cell_type": "code",
   "execution_count": 34,
   "metadata": {
    "colab": {
     "base_uri": "https://localhost:8080/",
     "height": 204
    },
    "id": "o_DMB1AmuRpN",
    "outputId": "26edfba1-6382-47ff-d217-1f619d226210",
    "tags": []
   },
   "outputs": [
    {
     "data": {
      "text/plain": [
       "(9838, 6)"
      ]
     },
     "execution_count": 34,
     "metadata": {},
     "output_type": "execute_result"
    }
   ],
   "source": [
    "df = df[df['OrderNumber'] != 0]\n",
    "df = df.drop_duplicates()\n",
    "df.head()\n",
    "df.shape"
   ]
  },
  {
   "cell_type": "code",
   "execution_count": 35,
   "metadata": {
    "colab": {
     "base_uri": "https://localhost:8080/"
    },
    "id": "TeBZOjAIsSm9",
    "outputId": "95fb86da-aa5a-4839-b99a-4c2f968c36f8",
    "tags": []
   },
   "outputs": [
    {
     "name": "stdout",
     "output_type": "stream",
     "text": [
      "['SMD67179', 'SMD67157', 'SMD67171', 'SMD67154', 'SMD67191', 'SMD67161', 'SMD67184', 'SMD67195', 'SMD67175', 'SMD67158', 'SMD67189', 'SMD67153', 'SMD67177', 'SMD67183']\n"
     ]
    }
   ],
   "source": [
    "dic_orderSKU = {}\n",
    "for i in df.index:\n",
    "    order_num = df['OrderNumber'][i]\n",
    "    if order_num in dic_orderSKU:\n",
    "        dic_orderSKU[order_num].append(df['SkuID'][i])\n",
    "    else:\n",
    "        dic_orderSKU[order_num] = [df['SkuID'][i]]\n",
    "print(dic_orderSKU[23912353])"
   ]
  },
  {
   "cell_type": "code",
   "execution_count": 36,
   "metadata": {
    "colab": {
     "base_uri": "https://localhost:8080/"
    },
    "id": "ITEE95AbuWLV",
    "outputId": "a5dbf8a5-30f3-49ce-9708-6c636f4c9115",
    "tags": []
   },
   "outputs": [
    {
     "name": "stdout",
     "output_type": "stream",
     "text": [
      "SKU pair ('GEPFM20', 'GEPTM20'):8 times\n",
      "SKU pair ('MMM671-4AN', 'PAP965-01'):8 times\n",
      "SKU pair ('PAP961-01', 'PAP963-01'):6 times\n",
      "SKU pair ('MEA57104', 'ROA77922'):6 times\n",
      "SKU pair ('SMD67184', 'SMD67189'):5 times\n"
     ]
    }
   ],
   "source": [
    "from collections import Counter\n",
    "sku_pairs = []\n",
    "for order, skus in dic_orderSKU.items():\n",
    "    for i in range(len(skus)):\n",
    "        for j in range(i+1, len(skus)):\n",
    "             sku1, sku2 = skus[i],skus[j]\n",
    "             if sku1 > sku2:\n",
    "                sku1, sku2 = sku2, sku1\n",
    "             sku_pair = (sku1,sku2)\n",
    "             sku_pairs.append(sku_pair)\n",
    "sku_pair_counts = Counter(sku_pairs)\n",
    "top_5_sku_pairs = sku_pair_counts.most_common(5)\n",
    "for pair, count in top_5_sku_pairs:\n",
    "    print(f\"SKU pair {pair}:{count} times\")"
   ]
  },
  {
   "cell_type": "code",
   "execution_count": 37,
   "metadata": {
    "tags": []
   },
   "outputs": [
    {
     "name": "stdout",
     "output_type": "stream",
     "text": [
      "               SkuID  OrderNumber  CustomerNumber  OrderQuantity      Date  \\\n",
      "7           SPR00906     23912363          919569              1  20040102   \n",
      "12       SPRSP52-1/3     23912358          919569              3  20040102   \n",
      "15      MMM3710-2-TT     23912399          919569             12  20040102   \n",
      "35    MMF201-3000-06     23910736          927715              3  20040102   \n",
      "52          SPR01648     23912367          919569              3  20040102   \n",
      "...              ...          ...             ...            ...       ...   \n",
      "9955        AVE05454     23927736          906311              1  20041201   \n",
      "9961        TCO32200     23928732          906311              1  20041201   \n",
      "9969      GBC3745167     23928140          634028              1  20041201   \n",
      "9970      HEWC8765WN     23931579          634028              2  20041201   \n",
      "9985        SPR02311     23929851          906311              3  20041201   \n",
      "\n",
      "        Time  \n",
      "7     161500  \n",
      "12    161500  \n",
      "15    163400  \n",
      "35    110200  \n",
      "52    161500  \n",
      "...      ...  \n",
      "9955  195000  \n",
      "9961  115700  \n",
      "9969  100300  \n",
      "9970  164200  \n",
      "9985  142700  \n",
      "\n",
      "[1642 rows x 6 columns]\n"
     ]
    }
   ],
   "source": [
    "value_counts_Q2 = df['OrderNumber'].value_counts()\n",
    "ordernum_with_2_skus = value_counts_Q2[value_counts_Q2 == 2].index\n",
    "order_with_2_skus = df[df['OrderNumber'].isin(ordernum_with_2_skus)]\n",
    "print(order_with_2_skus)"
   ]
  },
  {
   "cell_type": "code",
   "execution_count": 38,
   "metadata": {
    "tags": []
   },
   "outputs": [
    {
     "name": "stdout",
     "output_type": "stream",
     "text": [
      "['SPR00906', 'SEL10600']\n"
     ]
    }
   ],
   "source": [
    "orderSKU_Q2 = {}\n",
    "for i in order_with_2_skus.index:\n",
    "    order_num = order_with_2_skus['OrderNumber'][i]\n",
    "    if order_num in orderSKU_Q2:\n",
    "        orderSKU_Q2[order_num].append(order_with_2_skus['SkuID'][i])\n",
    "    else:\n",
    "        orderSKU_Q2[order_num] = [order_with_2_skus['SkuID'][i]]\n",
    "print(orderSKU_Q2[23912363])"
   ]
  },
  {
   "cell_type": "code",
   "execution_count": 44,
   "metadata": {
    "tags": []
   },
   "outputs": [
    {
     "name": "stdout",
     "output_type": "stream",
     "text": [
      "[(('PAP963-01', 'PAP961-01'), 3), (('ESS5825BLU', '39,906RUB'), 3), (('NAT01645', 'NAT01644'), 3), (('EPSS191089', 'EPSS189108'), 3), (('BIN58-7813', 'BIN58-7812'), 3), (('GEPTM20', 'GEPFM20'), 3), (('CNMBCI-15BK', 'CNMBCI-15'), 3), (('SMD68670', 'SMD68620'), 3), (('MMF200-0351-10', 'ALL26185'), 3), (('SPR05123', 'SPR05122'), 2)]\n"
     ]
    }
   ],
   "source": [
    "order_combination_Q2 = list(orderSKU_Q2.values())\n",
    "sorted_order_combination = [sorted(value, reverse=True) for value in order_combination_Q2]\n",
    "combination_counts = Counter(tuple(sublist) for sublist in sorted_order_combination)\n",
    "top_5_combination = combination_counts.most_common(10)\n",
    "print(top_5_combination)"
   ]
  }
 ],
 "metadata": {
  "colab": {
   "provenance": []
  },
  "kernelspec": {
   "display_name": "Python 3 (ipykernel)",
   "language": "python",
   "name": "python3"
  },
  "language_info": {
   "codemirror_mode": {
    "name": "ipython",
    "version": 3
   },
   "file_extension": ".py",
   "mimetype": "text/x-python",
   "name": "python",
   "nbconvert_exporter": "python",
   "pygments_lexer": "ipython3",
   "version": "3.11.5"
  }
 },
 "nbformat": 4,
 "nbformat_minor": 4
}
